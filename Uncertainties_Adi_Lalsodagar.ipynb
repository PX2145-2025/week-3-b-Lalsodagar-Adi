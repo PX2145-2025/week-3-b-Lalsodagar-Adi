{
  "cells": [
    {
      "cell_type": "markdown",
      "metadata": {
        "id": "IAhXguzjta5S"
      },
      "source": [
        "# Feedback from previous weeks and other and hints\n",
        "\n",
        "1. Be careful about your environment remembering variables. Make sure your code works in a new _clean_ environment. In Colab: `Runtime`->`restart Runtime`, in Anaconda's Jupyter: `Kernel`->`Restart`.\n",
        "2. Graphs without labels (or units when appropriate) are not worth any point.\n",
        "3. Do put in sufficient explanatory comments in your code.\n",
        "4. Functions are very important. Do look up the video on the Safari O'Reilly ressource if you are still not clear on them !\n",
        "\n",
        "For this week you can use these imports at the start of your programs:"
      ]
    },
    {
      "cell_type": "code",
      "execution_count": 1,
      "metadata": {
        "id": "Ax6ToihMta5U"
      },
      "outputs": [],
      "source": [
        "import numpy as np\n",
        "import matplotlib.pyplot as plt"
      ]
    },
    {
      "cell_type": "markdown",
      "metadata": {
        "id": "3Z4LQEDKta5V"
      },
      "source": [
        "We will use a new module `uncertainties`, which is **not** standard in the colab environment. You will have to first run:"
      ]
    },
    {
      "cell_type": "code",
      "execution_count": 2,
      "metadata": {
        "id": "gtqBaq-Dta5W"
      },
      "outputs": [],
      "source": [
        "! pip install -q uncertainties"
      ]
    },
    {
      "cell_type": "markdown",
      "metadata": {
        "id": "o_IXSiNDta5W"
      },
      "source": [
        "To install the module before you can import it:"
      ]
    },
    {
      "cell_type": "code",
      "execution_count": 3,
      "metadata": {
        "id": "AE20za1Eta5W"
      },
      "outputs": [],
      "source": [
        "import uncertainties as uc\n",
        "import uncertainties.umath as um # for maths functions"
      ]
    },
    {
      "cell_type": "markdown",
      "metadata": {
        "id": "1JNEURRyta5X"
      },
      "source": [
        "# Introduction\n",
        "In the practical classes PX2133/PX2233 and PX2338 (Obs tech), as well as your year 3/4 project, a lot of emphasis is placed on the determination and mathematical handling of errors.\n",
        "The uncertainties module allows us to deal very easily with [error propagation](https://en.wikipedia.org/wiki/Propagation_of_uncertainty). For this sheet you should remind yourself about error bars in measurements and about propagation of uncertainties. Take an example from your lab handbook:\n",
        "\n",
        "**Example 1**: If the length of a rectangle is $1.24\\pm0.02 m$ and its breadth is $0.61\\pm0.01 m$, what is its area and the error in the area? The following code snippet solves this problem in a few lines."
      ]
    },
    {
      "cell_type": "code",
      "execution_count": 4,
      "metadata": {
        "colab": {
          "base_uri": "https://localhost:8080/"
        },
        "id": "8pwvfVnGta5X",
        "outputId": "43730d60-3c4e-4908-cd96-5a2e4b4e95e3"
      },
      "outputs": [
        {
          "output_type": "stream",
          "name": "stdout",
          "text": [
            "Area is: 0.756+/-0.017 m^2\n"
          ]
        }
      ],
      "source": [
        "L = uc.ufloat(1.24, 0.02)\n",
        "W = uc.ufloat(0.61, 0.01)\n",
        "print ('Area is:', L*W, 'm^2') # Do remember to add the units when printing!"
      ]
    },
    {
      "cell_type": "markdown",
      "metadata": {
        "id": "RH4czRysta5Z"
      },
      "source": [
        "**Note**: For the area itself, it's fairly straightforward:"
      ]
    },
    {
      "cell_type": "code",
      "execution_count": 5,
      "metadata": {
        "colab": {
          "base_uri": "https://localhost:8080/"
        },
        "id": "Bs4zCxaGta5Z",
        "outputId": "c67bde76-ed6c-4ed3-e986-ff064f654bb7"
      },
      "outputs": [
        {
          "output_type": "execute_result",
          "data": {
            "text/plain": [
              "0.7564"
            ]
          },
          "metadata": {},
          "execution_count": 5
        }
      ],
      "source": [
        "1.24*0.61"
      ]
    },
    {
      "cell_type": "markdown",
      "metadata": {
        "id": "l4jbsA_Yta5a"
      },
      "source": [
        "However, for the error bar on this number:"
      ]
    },
    {
      "cell_type": "code",
      "execution_count": 6,
      "metadata": {
        "colab": {
          "base_uri": "https://localhost:8080/"
        },
        "id": "B-lwf5kSta5a",
        "outputId": "78056d35-b320-49e9-bcd1-43df72c70167"
      },
      "outputs": [
        {
          "output_type": "execute_result",
          "data": {
            "text/plain": [
              "0.0002"
            ]
          },
          "metadata": {},
          "execution_count": 6
        }
      ],
      "source": [
        "0.02*0.01"
      ]
    },
    {
      "cell_type": "markdown",
      "metadata": {
        "id": "AAjVPvteta5b"
      },
      "source": [
        "does not work. Instead, the [error progation formula](https://en.wikipedia.org/wiki/Propagation_of_uncertainty#Example_formulae) gives:"
      ]
    },
    {
      "cell_type": "code",
      "execution_count": 7,
      "metadata": {
        "colab": {
          "base_uri": "https://localhost:8080/"
        },
        "id": "cxjsOfo4ta5b",
        "outputId": "58ccde6c-676c-4ab9-efeb-87ffe7bc3cca"
      },
      "outputs": [
        {
          "output_type": "execute_result",
          "data": {
            "text/plain": [
              "np.float64(0.01739540169125163)"
            ]
          },
          "metadata": {},
          "execution_count": 7
        }
      ],
      "source": [
        "np.abs(1.24*0.61)*np.sqrt((0.02/1.24)**2+(0.01/0.61)**2)"
      ]
    },
    {
      "cell_type": "markdown",
      "metadata": {
        "id": "UYv7hE5zta5b"
      },
      "source": [
        "So the area is $0.756\\pm0.017 m^2$. `uncertainties` obviously saves a lot of work, even for such a simple case. You can also take a look at the web site uncertainties hosted at https://pythonhosted.org/uncertainties/user_guide.html. In particular, [this section](https://pythonhosted.org/uncertainties/user_guide.html#access-to-the-uncertainty-and-to-the-nominal-value) shows some of the properties of a `ufloat` you can access directly.\n",
        "\n",
        "**Example 2**: A reference object is $10.0\\pm0.0001 m$ long, and makes a viewing angle of $0.62\\pm0.02 rad$. How far is it?"
      ]
    },
    {
      "cell_type": "code",
      "execution_count": 8,
      "metadata": {
        "colab": {
          "base_uri": "https://localhost:8080/"
        },
        "id": "xnRBF_Q0ta5c",
        "outputId": "41549336-10b3-4500-bc62-07b335b24f90"
      },
      "outputs": [
        {
          "output_type": "stream",
          "name": "stdout",
          "text": [
            "Distance is: 15.609024890896208 m, with an error of: 0.537283338762715\n"
          ]
        }
      ],
      "source": [
        "L = uc.ufloat(10.0, 0.0001)\n",
        "theta = uc.ufloat(0.62,0.02)\n",
        "\n",
        "Distance = (L/2)/um.tan(theta/2)\n",
        "\n",
        "print ('Distance is:', Distance.nominal_value, 'm, with an error of:', Distance.std_dev)"
      ]
    },
    {
      "cell_type": "markdown",
      "metadata": {
        "id": "MYcarKeata5c"
      },
      "source": [
        "Note the need to use \"umath\" functions (like `um.tan()` instead of `np.tan()`), and how to get the nominal value and the standard deviation of the uncertainties objects. To get nicer looking output, such as controlling the number of significant digits printed, you can use the information about formatting at https://docs.python.org/3/tutorial/inputoutput.html. In the exercises below you need to print the values to the screen. (Don’t forget units.)"
      ]
    },
    {
      "cell_type": "markdown",
      "metadata": {
        "id": "XmCeSSPXta5c"
      },
      "source": [
        "# Exercises\n",
        "This must be marked before you leave the lab. Mark weighting is in brackets.\n",
        "**Save your work to GitHub after having run all cells with `Runtime` -> `Restart and run all`. And do not change the notebook's filename.** Do add comments to your code, you'll lose points if your code is hard to understand. Graphs without labels (or units when appropriate) are not worth any point.\n",
        "\n",
        "## Exercise 0\n",
        "[0] With some approximations, we have measured the mass of the following black-holes:\n",
        "```\n",
        "\"35.6+/-3.9\",\"30.6+/-3.7\",\"63.1+/-3.2\",\"23.2+/-9.8\",\"13.6+/-4.5\",\"35.7+/-6.8\",\"13.7+/-6.0\",\"7.7+/-2.4\",\"20.5+/-4.0\"\n",
        "```\n",
        "Compute for each (with error-bars) their lifetime due to Hawking radiation:\n",
        "$$\n",
        "t = \\left(\\frac{M}{M_{\\odot}}\\right)^3\\,\\times\\,2.097\\,\\times\\,10^{67} yr\n",
        "$$\n",
        "\n",
        "(this exercise is for demonstration purposes and won't be marked)"
      ]
    },
    {
      "cell_type": "code",
      "execution_count": 9,
      "metadata": {
        "id": "l7C2Z77jta5d"
      },
      "outputs": [],
      "source": [
        "def lifetime(mass):\n",
        "  '''\n",
        "  Returns the lifetime in years of a black hole of mass m in solar masses\n",
        "  '''\n",
        "  return (mass**3)*2.097 * 1e67"
      ]
    },
    {
      "cell_type": "code",
      "source": [
        "strings = [\"35.6+/-3.9\",\"30.6+/-3.7\",\"63.1+/-3.2\",\"23.2+/-9.8\",\"13.6+/-4.5\",\"35.7+/-6.8\",\"13.7+/-6.0\",\"7.7+/-2.4\",\"20.5+/-4.0\"]"
      ],
      "metadata": {
        "id": "d64D8qPBydKv"
      },
      "execution_count": 10,
      "outputs": []
    },
    {
      "cell_type": "code",
      "source": [
        "masses = [uc.ufloat_fromstr(s) for s in strings]"
      ],
      "metadata": {
        "id": "6Bq5IFlhyk27"
      },
      "execution_count": 11,
      "outputs": []
    },
    {
      "cell_type": "code",
      "source": [
        "['{:10.1e}'.format(lifetime(bh_mass)) for bh_mass in masses]"
      ],
      "metadata": {
        "colab": {
          "base_uri": "https://localhost:8080/"
        },
        "id": "09N674HRyvBm",
        "outputId": "e4b0a87e-5d90-4ea4-e336-62c3471496f5"
      },
      "execution_count": 12,
      "outputs": [
        {
          "output_type": "execute_result",
          "data": {
            "text/plain": [
              "['   9.5e+71+/-   3.1e+71',\n",
              " '   6.0e+71+/-   2.2e+71',\n",
              " '   5.3e+72+/-   0.8e+72',\n",
              " '   2.6e+71+/-   3.3e+71',\n",
              " '   5.3e+70+/-   5.2e+70',\n",
              " '   9.5e+71+/-   5.5e+71',\n",
              " '   5.4e+70+/-   7.1e+70',\n",
              " '   9.6e+69+/-   9.0e+69',\n",
              " '   1.8e+71+/-   1.1e+71']"
            ]
          },
          "metadata": {},
          "execution_count": 12
        }
      ]
    },
    {
      "cell_type": "markdown",
      "metadata": {
        "id": "jpW5SS4Eta5d"
      },
      "source": [
        "## Exercise 1\n",
        "[2] An object is measured to travel a distance $x = 5.1 \\pm 0.4 m$ during a time of $t = 0.4 \\pm 0.1 s$. What is the average velocity and the error in the average velocity?"
      ]
    },
    {
      "cell_type": "code",
      "execution_count": 13,
      "metadata": {
        "colab": {
          "base_uri": "https://localhost:8080/"
        },
        "id": "BxcUNWntta5d",
        "outputId": "dec8199c-4274-4078-d281-8404c58e1b9e"
      },
      "outputs": [
        {
          "output_type": "stream",
          "name": "stdout",
          "text": [
            "The velocity is: 12.750 m/s with an error of 3.341 m/s\n"
          ]
        }
      ],
      "source": [
        "! pip install -q uncertainties\n",
        "import numpy as np\n",
        "import matplotlib.pyplot as plt\n",
        "\n",
        "import uncertainties as uc\n",
        "import uncertainties.umath as um # for maths functions\n",
        "\n",
        "# using the uc.ufloat function to calculate the average velocity and its error\n",
        "x = uc.ufloat(5.1,0.4)\n",
        "t = uc.ufloat(0.4, 0.1)\n",
        "\n",
        "vel = x/t\n",
        "\n",
        "print(f\"The velocity is: {vel.nominal_value:.3f} m/s with an error of {vel.std_dev:.3f} m/s\")\n",
        "# nominal value is the first value in the uc.ufloat variable above for each component x and t\n",
        "# std_dev is the standard deviation of the vel function, using both x and t components"
      ]
    },
    {
      "cell_type": "markdown",
      "metadata": {
        "id": "G8fG-Jcqta5d"
      },
      "source": [
        "## Exercise 2\n",
        "[2] An enterprising cow attempts to jump over the moon by jumping vertically into the air with initial speed $v_0=4.0\\pm0.2 m/s$. After a time $t=0.60\\pm0.06s$, the height of the cow is $h = v_0t-\\frac{1}{2}g t^2 = 0.636 m$. What is the uncertainty in $h$? Take $g$ as exactly $9.81 ms^{-2}$."
      ]
    },
    {
      "cell_type": "code",
      "execution_count": 14,
      "metadata": {
        "colab": {
          "base_uri": "https://localhost:8080/"
        },
        "id": "UvtFwD0hta5e",
        "outputId": "41308b0c-234f-4ae6-a8ea-da1a8e90f5c7"
      },
      "outputs": [
        {
          "output_type": "stream",
          "name": "stdout",
          "text": [
            "The height is: 0.636 m with an error of 0.080 m\n"
          ]
        }
      ],
      "source": [
        "! pip install -q uncertainties\n",
        "import numpy as np\n",
        "import matplotlib.pyplot as plt\n",
        "\n",
        "import uncertainties as uc\n",
        "import uncertainties.umath as um # for maths functions\n",
        "\n",
        "# keeping aside the known variables\n",
        "v_0 = uc.ufloat(4.0,0.2)\n",
        "time = uc.ufloat(0.60,0.06)\n",
        "g = 9.81\n",
        "h_abs = 0.636\n",
        "\n",
        "h_unc = v_0*t - 0.5*g*t**2\n",
        "\n",
        "# printing out the uncertainty in height\n",
        "print(f\"The height is: {h_abs} m with an error of {h_unc.std_dev:.3f} m\")"
      ]
    },
    {
      "cell_type": "markdown",
      "metadata": {
        "id": "nFPhMok1ta5e"
      },
      "source": [
        "## Exercise 3\n",
        "[2] In an optics experiment the object distance $u$ is measured to be 20cm and the image distance $v$ is 10cm, both to an accuracy of 0.5cm. Find the focal length $f$ of the lens using the formula:\n",
        "\n",
        "$$ \\frac{1}{u}+\\frac{1}{v}=\\frac{1}{f}$$"
      ]
    },
    {
      "cell_type": "code",
      "execution_count": 15,
      "metadata": {
        "colab": {
          "base_uri": "https://localhost:8080/"
        },
        "id": "yWPCOY0cta5e",
        "outputId": "9ccedb14-79fe-43dc-f068-ae28e6f2967b"
      },
      "outputs": [
        {
          "output_type": "stream",
          "name": "stdout",
          "text": [
            "The focal length, with u and v in m, is: 0.067 with an error of 0.002\n",
            "The focal length, with u and v in cm, is: 6.667 with an error of 0.229\n"
          ]
        }
      ],
      "source": [
        "! pip install -q uncertainties\n",
        "import numpy as np\n",
        "import matplotlib.pyplot as plt\n",
        "\n",
        "import uncertainties as uc\n",
        "import uncertainties.umath as um # for maths functions\n",
        "\n",
        "# converting the distances to metres\n",
        "u = uc.ufloat(0.2,0.005)\n",
        "v = uc.ufloat(0.1,0.005)\n",
        "\n",
        "# assuming the distances are in metres\n",
        "f=1/((1/u)+(1/v))\n",
        "print(f\"The focal length, with u and v in m, is: {f.nominal_value:.3f} with an error of {f.std_dev:.3f}\")\n",
        "\n",
        "#converting back to centimeters\n",
        "u_orig = uc.ufloat(20,0.5)\n",
        "v_orig = uc.ufloat(10,0.5)\n",
        "f_orig = 1/((1/u_orig)+(1/v_orig))\n",
        "\n",
        "print(f\"The focal length, with u and v in cm, is: {f_orig.nominal_value:.3f} with an error of {f_orig.std_dev:.3f}\")"
      ]
    },
    {
      "cell_type": "markdown",
      "metadata": {
        "id": "0blpP-3Rta5e"
      },
      "source": [
        "## Exercise 4\n",
        "[2] Two students each measure the refractive index of water. Jack measures a value of $1.33 \\pm 0.03$ while Jill measures $1.28 \\pm 0.02$. Are these values in agreement? *You do have to think a bit about this one...*"
      ]
    },
    {
      "cell_type": "code",
      "execution_count": 16,
      "metadata": {
        "colab": {
          "base_uri": "https://localhost:8080/"
        },
        "id": "mN7FYDvfta5e",
        "outputId": "056b4877-387c-4474-a891-aa3c307ef587"
      },
      "outputs": [
        {
          "output_type": "stream",
          "name": "stdout",
          "text": [
            "Difference between measurements: 0.050\n",
            "Combined uncertainty: 0.036\n",
            "The measurements are not in agreement.\n"
          ]
        }
      ],
      "source": [
        "! pip install -q uncertainties\n",
        "import numpy as np\n",
        "import matplotlib.pyplot as plt\n",
        "\n",
        "import uncertainties as uc\n",
        "import uncertainties.umath as um # for maths functions\n",
        "\n",
        "jack = uc.ufloat(1.33,0.03)\n",
        "jill = uc.ufloat(1.28,0.02)\n",
        "\n",
        "diff = jack.nominal_value - jill.nominal_value\n",
        "\n",
        "u_combine = um.sqrt(jack.std_dev**2+jill.std_dev**2)\n",
        "\n",
        "# I now compare the difference and the combined uncertainty\n",
        "in_agreement = diff <= u_combine\n",
        "\n",
        "# Printing the results\n",
        "print(f\"Difference between measurements: {diff:.3f}\")\n",
        "print(f\"Combined uncertainty: {u_combine:.3f}\")\n",
        "\n",
        "if in_agreement:\n",
        "    print(\"The measurements are in agreement.\")\n",
        "else:\n",
        "    print(\"The measurements are not in agreement.\")"
      ]
    },
    {
      "cell_type": "markdown",
      "metadata": {
        "id": "aaRgTR9Ata5f"
      },
      "source": [
        "## Exercise 5\n",
        "[2] The damped resonance frequency $\\omega_{res}$ of an oscillating system is related to the (un-damped) natural angular frequency $\\omega_0$ and the damping coefficient $\\alpha$ by:\n",
        "\n",
        "$$\\omega_{res} = \\sqrt{ \\omega_0^2 - 2\\alpha^2}$$\n",
        "\n",
        "Find $f_0$ if the measured resonance frequency $f_{res}$ is $23.2\\pm0.1 Hz$ and the measured damping coefficient is $19.5\\pm0.5s^{-1}$.\n"
      ]
    },
    {
      "cell_type": "code",
      "execution_count": 17,
      "metadata": {
        "colab": {
          "base_uri": "https://localhost:8080/"
        },
        "id": "gpr6FLpGta5f",
        "outputId": "b01c3c13-2ea1-4a30-a232-6d2bd75c60d4"
      },
      "outputs": [
        {
          "output_type": "stream",
          "name": "stdout",
          "text": [
            "natural frequency is: 233.036 Hz with an error of 0.991 Hz\n"
          ]
        }
      ],
      "source": [
        "! pip install -q uncertainties\n",
        "import numpy as np\n",
        "import matplotlib.pyplot as plt\n",
        "\n",
        "import uncertainties as uc\n",
        "import uncertainties.umath as um # for maths functions\n",
        "\n",
        "#converting back to radians\n",
        "omega_res = uc.ufloat(23.2*2*np.pi,0.1*2*np.pi)\n",
        "alpha = uc.ufloat(19.5,0.5)\n",
        "\n",
        "omega_0 = um.sqrt(omega_res**2+2*alpha**2)\n",
        "f_0 = omega_0/2*np.pi\n",
        "\n",
        "print(f\"natural frequency is: {f_0.nominal_value:.3f} Hz with an error of {f_0.std_dev:.3f} Hz\")"
      ]
    },
    {
      "cell_type": "markdown",
      "metadata": {
        "id": "lQswoq1wta5f"
      },
      "source": [
        "## Exercise 6\n",
        "[2] Suppose you have the following equation from one of your lab experiments:\n",
        "\n",
        "$$f=\\frac{c}{2}\\sqrt{\\frac{n_x^2}{L_x^2}+\\frac{n_y^2}{L_y^2}+\\frac{n_z^2}{L_z^2}}$$\n",
        "\n",
        "where $f$ is the resonant frequency of sound waves in a box of sides $L_x$, $L_y$ and $L_z$ in length and the $n_x$ etc. are integers. $L_x = 10.2\\pm0.2m$, $L_y = 5.2\\pm0.3m$ and $L_z = 20.0\\pm0.1 m$, while $c = 331.3 + T * 0.606 \\,m\\,s^{-1}$ is the temperature-dependent speed of sound, and the temperature $T$ is $23 \\pm 1^\\circ C$.\n",
        "Calculate $f$ and the error in $f$ for the following values of $(nx,ny,nz)= (1,1,1), (1,1,2)$ and $(2,1,1)$.\n"
      ]
    },
    {
      "cell_type": "code",
      "execution_count": 18,
      "metadata": {
        "colab": {
          "base_uri": "https://localhost:8080/"
        },
        "id": "l2keaGpFta5f",
        "outputId": "f23dec3e-c9aa-4007-9723-fcb261bfee95"
      },
      "outputs": [
        {
          "output_type": "stream",
          "name": "stdout",
          "text": [
            "for (nx,ny,nz) = (1,1,1):\n",
            "res. frequency is: 38.247 Hz with an error of 1.670 Hz \n",
            "\n",
            "for (nx,ny,nz) = (1,1,2):\n",
            "res. frequency is: 41.065 Hz with an error of 1.556 Hz \n",
            "\n",
            "for (nx,ny,nz) = (2,1,1)\n",
            "res. frequency is: 48.188 Hz with an error of 1.402 Hz\n"
          ]
        }
      ],
      "source": [
        "! pip install -q uncertainties\n",
        "import numpy as np\n",
        "import matplotlib.pyplot as plt\n",
        "\n",
        "import uncertainties as uc\n",
        "import uncertainties.umath as um # for maths functions\n",
        "\n",
        "#writing the variables\n",
        "'''\n",
        "Dimensions of the box with uncertainties\n",
        "'''\n",
        "L_x = uc.ufloat(10.2,0.2)\n",
        "L_y = uc.ufloat(5.2,0.3)\n",
        "L_z = uc.ufloat(20.0,0.1)\n",
        "'''\n",
        "Temperature in degrees\n",
        "'''\n",
        "T = uc.ufloat(23,1) # in degrees\n",
        "\n",
        "#speed of sound in a box, with T being defined above\n",
        "c = 331.3 + T*0.606\n",
        "\n",
        "''' Non integer values nx,ny,nz'''\n",
        "#each n_value is an array of strings as I am asked to calculate 3 f values with uncertainties\n",
        "n_1 = np.array([1,1,1])\n",
        "n_2 = np.array([1,1,2])\n",
        "n_3 = np.array([2,1,1])\n",
        "\n",
        "f1 = c/2 *um.sqrt(n_1[0]**2/(L_x**2)+n_1[1]**2/L_y**2+n_1[2]**2/(L_z**2))\n",
        "print(\"for (nx,ny,nz) = (1,1,1):\")\n",
        "print(f\"res. frequency is: {f1.nominal_value:.3f} Hz with an error of {f1.std_dev:.3f} Hz \\n\")\n",
        "f2 = c/2 *um.sqrt(n_2[0]**2/(L_x**2)+n_2[1]**2/L_y**2+n_2[2]**2/(L_z**2))\n",
        "print(\"for (nx,ny,nz) = (1,1,2):\")\n",
        "print(f\"res. frequency is: {f2.nominal_value:.3f} Hz with an error of {f2.std_dev:.3f} Hz \\n\")\n",
        "f3 = c/2 *um.sqrt(n_3[0]**2/(L_x**2)+n_3[1]**2/L_y**2+n_3[2]**2/(L_z**2))\n",
        "print(\"for (nx,ny,nz) = (2,1,1)\")\n",
        "print(f\"res. frequency is: {f3.nominal_value:.3f} Hz with an error of {f3.std_dev:.3f} Hz\")"
      ]
    },
    {
      "cell_type": "markdown",
      "metadata": {
        "id": "aepQhCmota5f"
      },
      "source": [
        "## Exercise 7\n",
        "[4] The reflection coefficient $R_\\parallel$ for parallel plane-polarised light reflected from a surface is given by the equation:\n",
        "\n",
        "$$ R_\\parallel = \\frac{\\tan^2(\\theta_i - \\theta_t)}{\\tan^2(\\theta_i + \\theta_t)} $$\n",
        "\n",
        "Calculate the error in $R_\\parallel$ given measurements $\\theta_i = (78 \\pm 1)^\\circ$ and $\\theta_t = (40 \\pm 1)^\\circ$."
      ]
    },
    {
      "cell_type": "code",
      "execution_count": 29,
      "metadata": {
        "colab": {
          "base_uri": "https://localhost:8080/"
        },
        "id": "WLJw1dtQta5g",
        "outputId": "3e217f41-6233-49a5-a2d6-bcebe0f37486"
      },
      "outputs": [
        {
          "output_type": "stream",
          "name": "stdout",
          "text": [
            "reflection coefficient is:  {0.003572137026589645} with an uncertainty  {0.06506774439998199}\n",
            "to 4 decimal places, this is 0.0036 +/ 0.0651, which indicates high uncertainty\n"
          ]
        }
      ],
      "source": [
        "! pip install -q uncertainties\n",
        "import numpy as np\n",
        "import matplotlib.pyplot as plt\n",
        "\n",
        "import uncertainties as uc\n",
        "import uncertainties.umath as um # for maths functions\n",
        "\n",
        "t_i = uc.ufloat(78,1)\n",
        "t_t = uc.ufloat(40,1)\n",
        "\n",
        "R_parallel = (um.tan(t_i-t_t))**2/(um.tan(t_i+t_t))**2\n",
        "\n",
        "print(f\"reflection coefficient is: \",{R_parallel.nominal_value}, \"with an uncertainty \",{R_parallel.std_dev})\n",
        "print(\"to 4 decimal places, this is 0.0036 +/ 0.0651, which indicates high uncertainty\")"
      ]
    },
    {
      "cell_type": "markdown",
      "metadata": {
        "id": "wM_TgmPJta5g"
      },
      "source": [
        "## Exercise 8\n",
        "[4] Calculate and print to the screen the fractional uncertainty, as a percentage to one\n",
        "significant figure, of the fluid flow discharge coefficient $C_d$ from the equation\n",
        "\n",
        "$$\n",
        "C_d = \\frac{\\dot{m}\\sqrt{1-\\left(\\frac{d}{D}\\right)^4}}{Kd^2F\\sqrt{\\rho\\Delta P}}\n",
        "$$\n",
        "\n",
        "where\n",
        "\n",
        "\\begin{align*}\n",
        "    C_d &= \\text{discharge coefficient}&& \\text{(no units)} \\\\\n",
        "    \\dot{m} &= \\text{mass flow rate}&& = 0.13 \\pm 0.01kg\\,s^{-1} \\\\\n",
        "    d &= \\text{orifice diameter}&& = 11\\pm 1 mm \\\\\n",
        "    D &= \\text{pipe diameter}&& = 71 \\pm 1 mm \\\\\n",
        "    \\rho &= \\text{fluid density}&& =1.01\\pm0.01g\\,cm^{-3} \\\\\n",
        "    \\Delta P &= \\text{differential pressure}&& =156 \\pm 7 Pa \\\\\n",
        "    K &= \\text{a constant parameter}&& =\\text{constant (no units)} \\\\\n",
        "    F &= \\text{thermal expansion factor}&& =\\text{constant (no units)}\n",
        "\\end{align*}\n"
      ]
    },
    {
      "cell_type": "code",
      "execution_count": 33,
      "metadata": {
        "colab": {
          "base_uri": "https://localhost:8080/"
        },
        "id": "_CLOdk1Cta5h",
        "outputId": "71e4f0ed-7c65-4dac-ce2d-9be1eb456689"
      },
      "outputs": [
        {
          "output_type": "stream",
          "name": "stdout",
          "text": [
            "fluid flow discharge value is:  {426339.7459850153} with an uncertainty  {84777.32758565679}\n"
          ]
        }
      ],
      "source": [
        "! pip install -q uncertainties\n",
        "import numpy as np\n",
        "import matplotlib.pyplot as plt\n",
        "\n",
        "import uncertainties as uc\n",
        "import uncertainties.umath as um # for maths functions\n",
        "\n",
        "#converting the values to SI units\n",
        "mdot = uc.ufloat(0.13,0.01)\n",
        "d = uc.ufloat(0.011,0.001)\n",
        "D = uc.ufloat(0.071,0.001)\n",
        "rho = uc.ufloat(1010,10)\n",
        "P_delta = uc.ufloat(156,7)\n",
        "\n",
        "#could not have time to do final part so this is how much I could do\n",
        "C_d = (mdot*um.sqrt(1-(d/D)**4))/d**2*um.sqrt(rho*P_delta)\n",
        "\n",
        "print(f\"fluid flow discharge value is: \",{C_d.nominal_value}, \"with an uncertainty \",{C_d.std_dev})"
      ]
    },
    {
      "cell_type": "markdown",
      "metadata": {
        "id": "xJKouISFta5h"
      },
      "source": [
        "## Exercise 9: Optional problem (not marked)\n",
        "If you have time and want to try something interesting, do the following problem by plotting in 2D:\n",
        " - Draw an equilateral triangle with vertices and coordinates: vertex 1: $(p_1,q_1)$; vertex 2: $(p_2, q_2)$; vertex 3: $(p_3, q_3)$.\n",
        " - Place a dot at an arbitrary point $P = (x_0, y_0)$ within this triangle.\n",
        " - Find the next point by selecting randomly an integer $n = 1 , 2, $  or $3$ :\n",
        "    1. If 1 , place a dot halfway between P and vertex 1.\n",
        "    2. If 2 , place a dot halfway between P and vertex 2.\n",
        "    3. If 3 , place a dot halfway between P and vertex 3.\n",
        " - Repeat the last two steps using the last dot as the new P.\n",
        "\n",
        "Mathematically, the coordinates of successive points are given by the formulae\n",
        "\n",
        "$$(x_{i+1},y_{i+1})=0.5[(x_i,y_i)+(p_n,q_n)]$$\n",
        "\n",
        "and\n",
        "\n",
        "$$n=int(1+3r_i),$$\n",
        "\n",
        "where $r_i$ is a random number between 0 and 1 and where the $int()$ function outputs the closest integer smaller than or equal to the argument.\n",
        "\n",
        "Try extending this to four vertices."
      ]
    },
    {
      "cell_type": "code",
      "execution_count": null,
      "metadata": {
        "id": "e8J3XsTita5h"
      },
      "outputs": [],
      "source": []
    }
  ],
  "metadata": {
    "kernelspec": {
      "display_name": "Python 3",
      "language": "python",
      "name": "python3"
    },
    "language_info": {
      "codemirror_mode": {
        "name": "ipython",
        "version": 3
      },
      "file_extension": ".py",
      "mimetype": "text/x-python",
      "name": "python",
      "nbconvert_exporter": "python",
      "pygments_lexer": "ipython3",
      "version": "3.7.10"
    },
    "colab": {
      "provenance": [],
      "toc_visible": true
    }
  },
  "nbformat": 4,
  "nbformat_minor": 0
}